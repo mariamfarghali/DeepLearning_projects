{
  "cells": [
    {
      "cell_type": "markdown",
      "metadata": {
        "id": "view-in-github",
        "colab_type": "text"
      },
      "source": [
        "<a href=\"https://colab.research.google.com/github/mariamfarghali/DeepLearning_projects/blob/main/script_generation.ipynb\" target=\"_parent\"><img src=\"https://colab.research.google.com/assets/colab-badge.svg\" alt=\"Open In Colab\"/></a>"
      ]
    },
    {
      "cell_type": "markdown",
      "metadata": {
        "id": "VpYLlqC1nvwW"
      },
      "source": [
        "# TV Script Generation\n",
        "\n",
        "In this project, you'll generate your own [Seinfeld](https://en.wikipedia.org/wiki/Seinfeld) TV scripts using RNNs.  You'll be using part of the [Seinfeld dataset](https://www.kaggle.com/thec03u5/seinfeld-chronicles#scripts.csv) of scripts from 9 seasons.  The Neural Network you'll build will generate a new ,\"fake\" TV script, based on patterns it recognizes in this training data.\n",
        "\n",
        "## Get the Data\n",
        "\n",
        "The data is already provided for you in `./data/Seinfeld_Scripts.txt` and you're encouraged to open that file and look at the text.\n",
        ">* As a first step, we'll load in this data and look at some samples.\n",
        "* Then, you'll be tasked with defining and training an RNN to generate a new script!"
      ]
    },
    {
      "cell_type": "code",
      "execution_count": 1,
      "metadata": {
        "id": "-NlWNQQ_nvwi"
      },
      "outputs": [],
      "source": [
        "\"\"\"\n",
        "DON'T MODIFY ANYTHING IN THIS CELL\n",
        "\"\"\"\n",
        "# load in data\n",
        "import helper\n",
        "data_dir = '/content/Seinfeld_Scripts.txt'\n",
        "text = helper.load_data(data_dir)"
      ]
    },
    {
      "cell_type": "code",
      "source": [
        "from google.colab import drive\n",
        "drive.mount('/content/drive')"
      ],
      "metadata": {
        "colab": {
          "base_uri": "https://localhost:8080/"
        },
        "id": "WQx3IfLAMtsQ",
        "outputId": "a6279574-5e0e-40f1-d7f6-63eda0eb349a"
      },
      "execution_count": 1,
      "outputs": [
        {
          "output_type": "stream",
          "name": "stdout",
          "text": [
            "Mounted at /content/drive\n"
          ]
        }
      ]
    },
    {
      "cell_type": "markdown",
      "metadata": {
        "id": "SGPWsy_Knvwm"
      },
      "source": [
        "## Explore the Data\n",
        "Play around with `view_line_range` to view different parts of the data. This will give you a sense of the data you'll be working with. You can see, for example, that it is all lowercase text, and each new line of dialogue is separated by a newline character `\\n`."
      ]
    },
    {
      "cell_type": "code",
      "execution_count": 2,
      "metadata": {
        "colab": {
          "base_uri": "https://localhost:8080/"
        },
        "id": "iHlNlmlRnvwn",
        "outputId": "33cc0aae-d839-4ea4-d4ab-09940aab3d8b"
      },
      "outputs": [
        {
          "output_type": "stream",
          "name": "stdout",
          "text": [
            "Dataset Stats\n",
            "Roughly the number of unique words: 46367\n",
            "Number of lines: 109233\n",
            "Average number of words in each line: 5.544240293684143\n",
            "\n",
            "The lines 0 to 10:\n",
            "jerry: do you know what this is all about? do you know, why were here? to be out, this is out...and out is one of the single most enjoyable experiences of life. people...did you ever hear people talking about we should go out? this is what theyre talking about...this whole thing, were all out now, no one is home. not one person here is home, were all out! there are people trying to find us, they dont know where we are. (on an imaginary phone) did you ring?, i cant find him. where did he go? he didnt tell me where he was going. he must have gone out. you wanna go out you get ready, you pick out the clothes, right? you take the shower, you get all ready, get the cash, get your friends, the car, the spot, the reservation...then youre standing around, what do you do? you go we gotta be getting back. once youre out, you wanna get back! you wanna go to sleep, you wanna get up, you wanna go out again tomorrow, right? where ever you are in life, its my feeling, youve gotta go. \n",
            "\n",
            "jerry: (pointing at georges shirt) see, to me, that button is in the worst possible spot. the second button literally makes or breaks the shirt, look at it. its too high! its in no-mans-land. you look like you live with your mother. \n",
            "\n",
            "george: are you through? \n",
            "\n",
            "jerry: you do of course try on, when you buy? \n",
            "\n",
            "george: yes, it was purple, i liked it, i dont actually recall considering the buttons. \n",
            "\n"
          ]
        }
      ],
      "source": [
        "view_line_range = (0, 10)\n",
        "\n",
        "\"\"\"\n",
        "DON'T MODIFY ANYTHING IN THIS CELL THAT IS BELOW THIS LINE\n",
        "\"\"\"\n",
        "import numpy as np\n",
        "import torch.nn.init as init\n",
        "\n",
        "print('Dataset Stats')\n",
        "print('Roughly the number of unique words: {}'.format(len({word: None for word in text.split()})))\n",
        "\n",
        "lines = text.split('\\n')\n",
        "print('Number of lines: {}'.format(len(lines)))\n",
        "word_count_line = [len(line.split()) for line in lines]\n",
        "print('Average number of words in each line: {}'.format(np.average(word_count_line)))\n",
        "\n",
        "print()\n",
        "print('The lines {} to {}:'.format(*view_line_range))\n",
        "print('\\n'.join(text.split('\\n')[view_line_range[0]:view_line_range[1]]))"
      ]
    },
    {
      "cell_type": "markdown",
      "metadata": {
        "id": "iC6W1lMTnvws"
      },
      "source": [
        "---\n",
        "## Implement Pre-processing Functions\n",
        "The first thing to do to any dataset is pre-processing.  Implement the following pre-processing functions below:\n",
        "- Lookup Table\n",
        "- Tokenize Punctuation\n",
        "\n",
        "### Lookup Table\n",
        "To create a word embedding, you first need to transform the words to ids.  In this function, create two dictionaries:\n",
        "- Dictionary to go from the words to an id, we'll call `vocab_to_int`\n",
        "- Dictionary to go from the id to word, we'll call `int_to_vocab`\n",
        "\n",
        "Return these dictionaries in the following **tuple** `(vocab_to_int, int_to_vocab)`"
      ]
    },
    {
      "cell_type": "code",
      "execution_count": 3,
      "metadata": {
        "id": "_is6JmpTnvwt"
      },
      "outputs": [],
      "source": [
        "import re\n",
        "from collections import Counter\n",
        "\n",
        "def create_lookup_tables(words):\n",
        "    \"\"\"\n",
        "    Create lookup tables for vocabulary\n",
        "    :param text: The text of tv scripts split into words\n",
        "    :return: A tuple of dicts (vocab_to_int, int_to_vocab)\n",
        "    \"\"\"\n",
        "    word_counts = Counter(words)\n",
        "    # print(word_counts)\n",
        "    # sorting the words from most to least frequent in text occurrence\n",
        "    sorted_vocab = sorted(word_counts, key=word_counts.get, reverse=True)\n",
        "    # create int_to_vocab dictionaries\n",
        "    # print(sorted_vocab)\n",
        "    int_to_vocab = {(ii): word for ii, word in enumerate(sorted_vocab, 1)}\n",
        "    # print(int_to_vocab)\n",
        "    vocab_to_int = {word: ii for ii, word in int_to_vocab.items()}\n",
        "    # print(vocab_to_int)\n",
        "    return (vocab_to_int, int_to_vocab)"
      ]
    },
    {
      "cell_type": "code",
      "execution_count": 4,
      "metadata": {
        "colab": {
          "base_uri": "https://localhost:8080/"
        },
        "id": "PYscuZZrnvwu",
        "outputId": "1d7b99c7-997b-464e-86d4-b5f9fed9dde5"
      },
      "outputs": [
        {
          "output_type": "stream",
          "name": "stdout",
          "text": [
            "Tests Passed\n"
          ]
        }
      ],
      "source": [
        "import problem_unittests as tests\n",
        "\n",
        "\"\"\"\n",
        "DON'T MODIFY ANYTHING IN THIS CELL THAT IS BELOW THIS LINE\n",
        "\"\"\"\n",
        "tests.test_create_lookup_tables(create_lookup_tables)"
      ]
    },
    {
      "cell_type": "markdown",
      "metadata": {
        "id": "-ZgEfe4Anvww"
      },
      "source": [
        "### Tokenize Punctuation\n",
        "We'll be splitting the script into a word array using spaces as delimiters.  However, punctuations like periods and exclamation marks can create multiple ids for the same word. For example, \"bye\" and \"bye!\" would generate two different word ids.\n",
        "\n",
        "Implement the function `token_lookup` to return a dict that will be used to tokenize symbols like \"!\" into \"||Exclamation_Mark||\".  Create a dictionary for the following symbols where the symbol is the key and value is the token:\n",
        "- Period ( **.** )\n",
        "- Comma ( **,** )\n",
        "- Quotation Mark ( **\"** )\n",
        "- Semicolon ( **;** )\n",
        "- Exclamation mark ( **!** )\n",
        "- Question mark ( **?** )\n",
        "- Left Parentheses ( **(** )\n",
        "- Right Parentheses ( **)** )\n",
        "- Dash ( **-** )\n",
        "- Return ( **\\n** )\n",
        "\n",
        "This dictionary will be used to tokenize the symbols and add the delimiter (space) around it.  This separates each symbols as its own word, making it easier for the neural network to predict the next word. Make sure you don't use a value that could be confused as a word; for example, instead of using the value \"dash\", try using something like \"||dash||\"."
      ]
    },
    {
      "cell_type": "code",
      "execution_count": 5,
      "metadata": {
        "id": "MAkSlp9Knvwy"
      },
      "outputs": [],
      "source": [
        "from string import punctuation\n",
        "\n",
        "def token_lookup():\n",
        "    \"\"\"\n",
        "    Generate a dict to turn punctuation into a token.\n",
        "    :return: Tokenized dictionary where the key is the punctuation and the value is the token\n",
        "    \"\"\"\n",
        "    # TODO: Implement Function\n",
        "\n",
        "    dict_token = {}\n",
        "    dict_token['.'] = '||PERIOD||'\n",
        "    dict_token[','] = '||COMMA||'\n",
        "    dict_token['\"'] = '||QUOTATION_MARK||'\n",
        "    dict_token[';'] = '||SEMICOLON||'\n",
        "    dict_token['!'] = '||EXCLAMATION_MARK||'\n",
        "    dict_token['?'] = '||QUESTION_MARK||'\n",
        "    dict_token['('] = '||LEFT_PARENTHESES||'\n",
        "    dict_token[')'] = '||RIGHT_PARENTHESES||'\n",
        "    dict_token['-'] = '||DASH||'\n",
        "    dict_token['?'] = '||QUESTION_MARK||'\n",
        "    dict_token['\\n'] = '||RETURN||'\n",
        "    # dict_token[':'] = ' ||COLON|| '\n",
        "    # print(dict_token)\n",
        "    return dict_token"
      ]
    },
    {
      "cell_type": "code",
      "execution_count": 6,
      "metadata": {
        "colab": {
          "base_uri": "https://localhost:8080/"
        },
        "id": "btLmfjF_nvwz",
        "outputId": "d72f0b20-772f-4984-9b0e-6625be445d8c"
      },
      "outputs": [
        {
          "output_type": "stream",
          "name": "stdout",
          "text": [
            "Tests Passed\n"
          ]
        }
      ],
      "source": [
        "\n",
        "# print(token_lookup())\n",
        "\"\"\"\n",
        "DON'T MODIFY ANYTHING IN THIS CELL THAT IS BELOW THIS LINE\n",
        "\"\"\"\n",
        "tests.test_tokenize(token_lookup)"
      ]
    },
    {
      "cell_type": "markdown",
      "metadata": {
        "id": "TQsn479Envw1"
      },
      "source": [
        "## Pre-process all the data and save it\n",
        "\n",
        "Running the code cell below will pre-process all the data and save it to file. You're encouraged to lok at the code for `preprocess_and_save_data` in the `helpers.py` file to see what it's doing in detail, but you do not need to change this code."
      ]
    },
    {
      "cell_type": "code",
      "execution_count": 7,
      "metadata": {
        "id": "Q4SBpPLPnvw2"
      },
      "outputs": [],
      "source": [
        "\"\"\"\n",
        "DON'T MODIFY ANYTHING IN THIS CELL\n",
        "\"\"\"\n",
        "# pre-process training data\n",
        "helper.preprocess_and_save_data(data_dir, token_lookup, create_lookup_tables)"
      ]
    },
    {
      "cell_type": "markdown",
      "metadata": {
        "id": "FHak1a7hnvw4"
      },
      "source": [
        "# Check Point\n",
        "This is your first checkpoint. If you ever decide to come back to this notebook or have to restart the notebook, you can start from here. The preprocessed data has been saved to disk."
      ]
    },
    {
      "cell_type": "code",
      "execution_count": 8,
      "metadata": {
        "id": "G5ae-cdcnvw4"
      },
      "outputs": [],
      "source": [
        "\"\"\"\n",
        "DON'T MODIFY ANYTHING IN THIS CELL\n",
        "\"\"\"\n",
        "import helper\n",
        "import problem_unittests as tests\n",
        "\n",
        "int_text, vocab_to_int, int_to_vocab, token_dict = helper.load_preprocess()"
      ]
    },
    {
      "cell_type": "code",
      "execution_count": 9,
      "metadata": {
        "colab": {
          "base_uri": "https://localhost:8080/"
        },
        "id": "S0DLyRP9nvw5",
        "outputId": "d43e3adc-1d4e-4ea6-d24f-ceafa1f94873"
      },
      "outputs": [
        {
          "output_type": "execute_result",
          "data": {
            "text/plain": [
              "21388"
            ]
          },
          "metadata": {},
          "execution_count": 9
        }
      ],
      "source": [
        "len(vocab_to_int) # 46367"
      ]
    },
    {
      "cell_type": "markdown",
      "metadata": {
        "id": "XGritMv5nvw6"
      },
      "source": [
        "## Build the Neural Network\n",
        "In this section, you'll build the components necessary to build an RNN by implementing the RNN Module and forward and backpropagation functions.\n",
        "\n",
        "### Check Access to GPU"
      ]
    },
    {
      "cell_type": "code",
      "execution_count": 10,
      "metadata": {
        "id": "iqqb1w35nvw6"
      },
      "outputs": [],
      "source": [
        "\"\"\"\n",
        "DON'T MODIFY ANYTHING IN THIS CELL\n",
        "\"\"\"\n",
        "import torch\n",
        "\n",
        "# Check for a GPU\n",
        "train_on_gpu = torch.cuda.is_available()\n",
        "if not train_on_gpu:\n",
        "    print('No GPU found. Please use a GPU to train your neural network.')"
      ]
    },
    {
      "cell_type": "markdown",
      "metadata": {
        "id": "wn6j63Konvw7"
      },
      "source": [
        "## Input\n",
        "Let's start with the preprocessed input data. We'll use [TensorDataset](http://pytorch.org/docs/master/data.html#torch.utils.data.TensorDataset) to provide a known format to our dataset; in combination with [DataLoader](http://pytorch.org/docs/master/data.html#torch.utils.data.DataLoader), it will handle batching, shuffling, and other dataset iteration functions.\n",
        "\n",
        "You can create data with TensorDataset by passing in feature and target tensors. Then create a DataLoader as usual.\n",
        "```\n",
        "data = TensorDataset(feature_tensors, target_tensors)\n",
        "data_loader = torch.utils.data.DataLoader(data,\n",
        "                                          batch_size=batch_size)\n",
        "```\n",
        "\n",
        "### Batching\n",
        "Implement the `batch_data` function to batch `words` data into chunks of size `batch_size` using the `TensorDataset` and `DataLoader` classes.\n",
        "\n",
        ">You can batch words using the DataLoader, but it will be up to you to create `feature_tensors` and `target_tensors` of the correct size and content for a given `sequence_length`.\n",
        "\n",
        "For example, say we have these as input:\n",
        "```\n",
        "words = [1, 2, 3, 4, 5, 6, 7]\n",
        "sequence_length = 4\n",
        "```\n",
        "\n",
        "Your first `feature_tensor` should contain the values:\n",
        "```\n",
        "[1, 2, 3, 4]\n",
        "```\n",
        "And the corresponding `target_tensor` should just be the next \"word\"/tokenized word value:\n",
        "```\n",
        "5\n",
        "```\n",
        "This should continue with the second `feature_tensor`, `target_tensor` being:\n",
        "```\n",
        "[2, 3, 4, 5]  # features\n",
        "6             # target\n",
        "```"
      ]
    },
    {
      "cell_type": "code",
      "execution_count": 11,
      "metadata": {
        "colab": {
          "base_uri": "https://localhost:8080/"
        },
        "id": "hIxLzEKRnvw8",
        "outputId": "fc71fe50-9ecf-4438-d7c5-2abfd6b5abb0"
      },
      "outputs": [
        {
          "output_type": "execute_result",
          "data": {
            "text/plain": [
              "892110"
            ]
          },
          "metadata": {},
          "execution_count": 11
        }
      ],
      "source": [
        "len(int_text)"
      ]
    },
    {
      "cell_type": "code",
      "execution_count": 12,
      "metadata": {
        "id": "oqZZWGMJnvw-"
      },
      "outputs": [],
      "source": [
        "def pad_features(reviews_ints, seq_length):\n",
        "    ''' Return features of review_ints, where each review is padded with 0's\n",
        "        or truncated to the input seq_length.\n",
        "    '''\n",
        "    # getting the correct rows x cols shape\n",
        "    features = np.zeros((len(reviews_ints), seq_length), dtype=int)\n",
        "\n",
        "    # for each review, I grab that review and\n",
        "    for i, row in enumerate(reviews_ints):\n",
        "        features[i, -len(row):] = np.array(row)[:seq_length]\n",
        "\n",
        "    return features"
      ]
    },
    {
      "cell_type": "code",
      "execution_count": 13,
      "metadata": {
        "colab": {
          "base_uri": "https://localhost:8080/"
        },
        "id": "hDgzOdpHnvxA",
        "outputId": "56ad2956-1402-4118-a1ed-5277fde4c03e"
      },
      "outputs": [
        {
          "output_type": "stream",
          "name": "stdout",
          "text": [
            "[1, 2, 3, 4, 5, 6, 7]\n",
            "[[1 2 3 4]]\n",
            "[0]\n"
          ]
        },
        {
          "output_type": "execute_result",
          "data": {
            "text/plain": [
              "array([[1, 2, 3, 4]])"
            ]
          },
          "metadata": {},
          "execution_count": 13
        }
      ],
      "source": [
        "from torch.utils.data import TensorDataset, DataLoader\n",
        "\n",
        "\n",
        "def batch_data(words, sequence_length, batch_size):\n",
        "    \"\"\"\n",
        "    Batch the neural network data using DataLoader\n",
        "    :param words: The word ids of the TV scripts\n",
        "    :param sequence_length: The sequence length of each batch\n",
        "    :param batch_size: The size of each batch; the number of sequences in a batch\n",
        "    :return: DataLoader with batched data\n",
        "    \"\"\"\n",
        "    # TODO: Implement function\n",
        "    # create Tensor datasets\n",
        "\n",
        "    # [wordsfor word in words]\n",
        "\n",
        "    feature_tensor = np.zeros((batch_size, sequence_length), dtype=int)\n",
        "    target_tensor = np.zeros(feature_tensor.shape[0], dtype=int)\n",
        "\n",
        "    feature_tensor[0, -len(words):] = np.array(words)[:sequence_length]\n",
        "    # target_tensor[-len(words):] = np.array(words)[sequence_length:]\n",
        "    # feature_tensor = words[:sequence_length]\n",
        "    # target_tensors\n",
        "\n",
        "    # data = TensorDataset(feature_tensors, target_tensors)\n",
        "    # data_loader = torch.utils.data.DataLoader(data, batch_size=batch_size)\n",
        "\n",
        "    print(words)\n",
        "    print(feature_tensor)\n",
        "    print(target_tensor)\n",
        "    # return a dataloader\n",
        "    return feature_tensor\n",
        "\n",
        "# there is no test for this function, but you are encouraged to create\n",
        "# print statements and tests of your own\n",
        "batch_data([1, 2, 3, 4, 5, 6, 7], sequence_length=4, batch_size=1)"
      ]
    },
    {
      "cell_type": "markdown",
      "metadata": {
        "id": "Eot4V6KvnvxC"
      },
      "source": [
        "### Test your dataloader\n",
        "\n",
        "You'll have to modify this code to test a batching function, but it should look fairly similar.\n",
        "\n",
        "Below, we're generating some test text data and defining a dataloader using the function you defined, above. Then, we are getting some sample batch of inputs `sample_x` and targets `sample_y` from our dataloader.\n",
        "\n",
        "Your code should return something like the following (likely in a different order, if you shuffled your data):\n",
        "\n",
        "```\n",
        "torch.Size([10, 5])\n",
        "tensor([[ 28,  29,  30,  31,  32],\n",
        "        [ 21,  22,  23,  24,  25],\n",
        "        [ 17,  18,  19,  20,  21],\n",
        "        [ 34,  35,  36,  37,  38],\n",
        "        [ 11,  12,  13,  14,  15],\n",
        "        [ 23,  24,  25,  26,  27],\n",
        "        [  6,   7,   8,   9,  10],\n",
        "        [ 38,  39,  40,  41,  42],\n",
        "        [ 25,  26,  27,  28,  29],\n",
        "        [  7,   8,   9,  10,  11]])\n",
        "\n",
        "torch.Size([10])\n",
        "tensor([ 33,  26,  22,  39,  16,  28,  11,  43,  30,  12])\n",
        "```\n",
        "\n",
        "### Sizes\n",
        "Your sample_x should be of size `(batch_size, sequence_length)` or (10, 5) in this case and sample_y should just have one dimension: batch_size (10).\n",
        "\n",
        "### Values\n",
        "\n",
        "You should also notice that the targets, sample_y, are the *next* value in the ordered test_text data. So, for an input sequence `[ 28,  29,  30,  31,  32]` that ends with the value `32`, the corresponding output should be `33`."
      ]
    },
    {
      "cell_type": "code",
      "execution_count": 14,
      "metadata": {
        "id": "WBbvzhRbnvxE"
      },
      "outputs": [],
      "source": [
        "def get_target(words, idx, window_size=5):\n",
        "    ''' Get a list of words in a window around an index. '''\n",
        "\n",
        "    R = np.random.randint(1, window_size+1)\n",
        "    start = idx - R if (idx - R) > 0 else 0\n",
        "    stop = idx + R\n",
        "    target_words = words[start:idx] + words[idx+1:stop+1]\n",
        "\n",
        "    return list(target_words)"
      ]
    },
    {
      "cell_type": "code",
      "execution_count": 15,
      "metadata": {
        "id": "ysD6WWSRnvxG"
      },
      "outputs": [],
      "source": [
        "from torch.utils.data import TensorDataset, DataLoader\n",
        "\n",
        "\n",
        "def batch_data(words, sequence_length, batch_size):\n",
        "    \"\"\"\n",
        "    Batch the neural network data using DataLoader\n",
        "    :param words: The word ids of the TV scripts\n",
        "    :param sequence_length: The sequence length of each batch\n",
        "    :param batch_size: The size of each batch; the number of sequences in a batch\n",
        "    :return: DataLoader with batched data\n",
        "    \"\"\"\n",
        "    # Replace np.int with int to fix the error\n",
        "    words = np.array(words, dtype=int)\n",
        "\n",
        "    n_batches = len(words)//(batch_size*sequence_length)\n",
        "\n",
        "    words = words[:batch_size*sequence_length*n_batches]\n",
        "    # words = words.reshape((batch_size, -1))\n",
        "    x = np.array([words[n:n+sequence_length] for n in range(0, len(words)) if (n+sequence_length) <= len(words) ])\n",
        "    # x = x.reshape((len(x), -1))\n",
        "    y = np.array([words[n] for n in range(sequence_length, len(words))], dtype=int)\n",
        "    y = np.concatenate((y, [words[0]]), axis=0)\n",
        "    # y = y.reshape((-1, len(y)))\n",
        "    # x = np.asarray(x, dtype=np.int)\n",
        "    # print(words)\n",
        "    print(x.shape)\n",
        "    print(y.shape)\n",
        "    # print(x)\n",
        "    # print(y)\n",
        "    # print(torch.Tensor(y).size())\n",
        "    data = TensorDataset(torch.Tensor(x).long(), torch.Tensor(y).long())\n",
        "    data_loader = torch.utils.data.DataLoader(data, batch_size=batch_size, shuffle=True)\n",
        "    # print(data_loader.dataset)\n",
        "    return data_loader"
      ]
    },
    {
      "cell_type": "code",
      "execution_count": 16,
      "metadata": {
        "id": "P5ADkaaCnvxK"
      },
      "outputs": [],
      "source": [
        "def repackage_hidden(h):\n",
        "    \"\"\"Wraps hidden states in new Tensors, to detach them from their history.\"\"\"\n",
        "    if isinstance(h, torch.Tensor):\n",
        "        return h.detach()\n",
        "    else:\n",
        "        return tuple(repackage_hidden(v) for v in h)"
      ]
    },
    {
      "cell_type": "code",
      "execution_count": 17,
      "metadata": {
        "colab": {
          "base_uri": "https://localhost:8080/"
        },
        "id": "V62pABbRnvxT",
        "outputId": "3eab3f7a-5d9e-4432-a11b-d2e8b1f18309"
      },
      "outputs": [
        {
          "output_type": "stream",
          "name": "stdout",
          "text": [
            "(46, 5)\n",
            "(46,)\n",
            "torch.Size([10, 5])\n",
            "tensor([[13, 14, 15, 16, 17],\n",
            "        [11, 12, 13, 14, 15],\n",
            "        [ 0,  1,  2,  3,  4],\n",
            "        [36, 37, 38, 39, 40],\n",
            "        [10, 11, 12, 13, 14],\n",
            "        [22, 23, 24, 25, 26],\n",
            "        [42, 43, 44, 45, 46],\n",
            "        [ 2,  3,  4,  5,  6],\n",
            "        [17, 18, 19, 20, 21],\n",
            "        [41, 42, 43, 44, 45]])\n",
            "\n",
            "torch.Size([10])\n",
            "tensor([18, 16,  5, 41, 15, 27, 47,  7, 22, 46])\n"
          ]
        }
      ],
      "source": [
        "# test dataloader\n",
        "\n",
        "test_text = range(50)\n",
        "t_loader = batch_data(test_text, sequence_length=5, batch_size=10)\n",
        "\n",
        "data_iter = iter(t_loader)\n",
        "# Use next(data_iter) instead of data_iter.next()\n",
        "sample_x, sample_y = next(data_iter)\n",
        "\n",
        "print(sample_x.shape)\n",
        "print(sample_x)\n",
        "print()\n",
        "print(sample_y.shape)\n",
        "print(sample_y)"
      ]
    },
    {
      "cell_type": "markdown",
      "metadata": {
        "id": "6Q36-q2EnvxW"
      },
      "source": [
        "---\n",
        "## Build the Neural Network\n",
        "Implement an RNN using PyTorch's [Module class](http://pytorch.org/docs/master/nn.html#torch.nn.Module). You may choose to use a GRU or an LSTM. To complete the RNN, you'll have to implement the following functions for the class:\n",
        " - `__init__` - The initialize function.\n",
        " - `init_hidden` - The initialization function for an LSTM/GRU hidden state\n",
        " - `forward` - Forward propagation function.\n",
        "\n",
        "The initialize function should create the layers of the neural network and save them to the class. The forward propagation function will use these layers to run forward propagation and generate an output and a hidden state.\n",
        "\n",
        "**The output of this model should be the *last* batch of word scores** after a complete sequence has been processed. That is, for each input sequence of words, we only want to output the word scores for a single, most likely, next word.\n",
        "\n",
        "### Hints\n",
        "\n",
        "1. Make sure to stack the outputs of the lstm to pass to your fully-connected layer, you can do this with `lstm_output = lstm_output.contiguous().view(-1, self.hidden_dim)`\n",
        "2. You can get the last batch of word scores by shaping the output of the final, fully-connected layer like so:\n",
        "\n",
        "```\n",
        "# reshape into (batch_size, seq_length, output_size)\n",
        "output = output.view(batch_size, -1, self.output_size)\n",
        "# get last batch\n",
        "out = output[:, -1]\n",
        "```"
      ]
    },
    {
      "cell_type": "code",
      "execution_count": 18,
      "metadata": {
        "colab": {
          "base_uri": "https://localhost:8080/"
        },
        "id": "IOdB_TWCnvxd",
        "outputId": "14190b60-ac3d-4ed5-adfd-6776b98c2ee4"
      },
      "outputs": [
        {
          "output_type": "stream",
          "name": "stdout",
          "text": [
            "Tests Passed\n"
          ]
        }
      ],
      "source": [
        "import torch.nn as nn\n",
        "import torch.nn.functional as F\n",
        "\n",
        "class RNN(nn.Module):\n",
        "\n",
        "    def __init__(self, vocab_size, output_size, embedding_dim, hidden_dim, n_layers, dropout=0.5):\n",
        "        \"\"\"\n",
        "        Initialize the PyTorch RNN Module\n",
        "        :param vocab_size: The number of input dimensions of the neural network (the size of the vocabulary)\n",
        "        :param output_size: The number of output dimensions of the neural network\n",
        "        :param embedding_dim: The size of embeddings, should you choose to use them\n",
        "        :param hidden_dim: The size of the hidden layer outputs\n",
        "        :param dropout: dropout to add in between LSTM/GRU layers\n",
        "        \"\"\"\n",
        "        super(RNN, self).__init__()\n",
        "        # TODO: Implement function\n",
        "        # from mytest.py\n",
        "\n",
        "        # set class variables\n",
        "        self.output_size = output_size\n",
        "        self.n_layers = n_layers\n",
        "        self.hidden_dim = hidden_dim\n",
        "        self.vocab_size = vocab_size\n",
        "        self.embedding_dim = embedding_dim\n",
        "        self.window_length = 140\n",
        "\n",
        "        # define model layers\n",
        "        self.embedding = nn.Embedding(vocab_size, embedding_dim)\n",
        "        self.lstm = nn.LSTM(embedding_dim, hidden_dim, n_layers, dropout=dropout, batch_first=True)\n",
        "\n",
        "        # dropout layer\n",
        "        self.dropout = nn.Dropout(dropout)\n",
        "\n",
        "        # linear and sigmoid layers\n",
        "        self.fc = nn.Linear(hidden_dim, output_size)\n",
        "        # self.sig = nn.Softmax(dim=1)\n",
        "        self.init_weights()\n",
        "\n",
        "    def init_weights(self):\n",
        "        initrange = 0.08\n",
        "        self.embedding.weight.data.uniform_(-initrange, initrange)\n",
        "        self.lstm.weight_ih_l0.data.uniform_(-initrange, initrange)\n",
        "        self.lstm.weight_hh_l0.data.uniform_(-initrange, initrange)\n",
        "\n",
        "        self.lstm.bias_ih_l0.data.zero_()\n",
        "        self.lstm.bias_hh_l0.data.zero_()\n",
        "\n",
        "        # self.fc.bias.data.zero_()\n",
        "        self.fc.bias.data.fill_(0)\n",
        "        # self.fc.weight.data.uniform_(-initrange, initrange)\n",
        "        self.fc.weight.data.normal_(0.0, (1.0 / np.sqrt(self.fc.in_features)))\n",
        "\n",
        "    def forward(self, nn_input, hidden):\n",
        "        \"\"\"\n",
        "        Forward propagation of the neural network\n",
        "        :param nn_input: The input to the neural network\n",
        "        :param hidden: The hidden state\n",
        "        :return: Two Tensors, the output of the neural network and the latest hidden state\n",
        "        \"\"\"\n",
        "\n",
        "        # TODO: Implement function\n",
        "        batch_size = nn_input.size(0)\n",
        "\n",
        "        # embeddings and lstm_out\n",
        "        embeds = self.dropout(self.embedding(nn_input))\n",
        "        # lstm_out, hidden = self.lstm(embeds.view(len(nn_input), self.window_length, -1), hidden)\n",
        "\n",
        "        lstm_out, hidden = self.lstm(embeds, hidden)\n",
        "\n",
        "        # stack up lstm outputs\n",
        "\n",
        "        lstm_out = lstm_out.contiguous().view(-1, self.hidden_dim)\n",
        "\n",
        "        sig_out = self.fc(lstm_out)\n",
        "        # out = self.fc1(out)\n",
        "        # print(sig_out.shape)\n",
        "\n",
        "        sig_out = sig_out.view(batch_size, -1, self.output_size)\n",
        "        sig_out = sig_out[:, -1]\n",
        "\n",
        "        # sig_out = F.log_softmax(sig_out, dim=1)\n",
        "\n",
        "        # return one batch of output word scores and the hidden state\n",
        "        return sig_out, hidden\n",
        "\n",
        "    def init_hidden(self, batch_size):\n",
        "        '''\n",
        "        Initialize the hidden state of an LSTM/GRU\n",
        "        :param batch_size: The batch_size of the hidden state\n",
        "        :return: hidden state of dims (n_layers, batch_size, hidden_dim)\n",
        "        '''\n",
        "        # Implement function\n",
        "\n",
        "        # initialize hidden state with zero weights, and move to GPU if available\n",
        "\n",
        "        weight = next(self.parameters()).data\n",
        "\n",
        "        if (train_on_gpu):\n",
        "            hidden = (weight.new(self.n_layers, batch_size, self.hidden_dim).zero_().cuda(),\n",
        "                      weight.new(self.n_layers, batch_size, self.hidden_dim).zero_().cuda())\n",
        "        else:\n",
        "            hidden = (weight.new(self.n_layers, batch_size, self.hidden_dim).zero_(),\n",
        "                      weight.new(self.n_layers, batch_size, self.hidden_dim).zero_())\n",
        "\n",
        "        return hidden\n",
        "\n",
        "\n",
        "\"\"\"\n",
        "DON'T MODIFY ANYTHING IN THIS CELL THAT IS BELOW THIS LINE\n",
        "\"\"\"\n",
        "tests.test_rnn(RNN, train_on_gpu)"
      ]
    },
    {
      "cell_type": "markdown",
      "metadata": {
        "id": "JKQd1zjUnvxi"
      },
      "source": [
        "### Define forward and backpropagation\n",
        "\n",
        "Use the RNN class you implemented to apply forward and back propagation. This function will be called, iteratively, in the training loop as follows:\n",
        "```\n",
        "loss = forward_back_prop(decoder, decoder_optimizer, criterion, inp, target)\n",
        "```\n",
        "\n",
        "And it should return the average loss over a batch and the hidden state returned by a call to `RNN(inp, hidden)`. Recall that you can get this loss by computing it, as usual, and calling `loss.item()`.\n",
        "\n",
        "**If a GPU is available, you should move your data to that GPU device, here.**"
      ]
    },
    {
      "cell_type": "code",
      "execution_count": 19,
      "metadata": {
        "colab": {
          "base_uri": "https://localhost:8080/"
        },
        "id": "auu-2cHKnvxo",
        "outputId": "d3c6d0bd-8b0d-48f3-c53c-284b803069ff"
      },
      "outputs": [
        {
          "output_type": "stream",
          "name": "stdout",
          "text": [
            "Tests Passed\n"
          ]
        }
      ],
      "source": [
        "from torch.autograd import Variable\n",
        "\n",
        "def forward_back_prop(rnn, optimizer, criterion, inputs, labels, hidden_dim, clip=9):\n",
        "    \"\"\"\n",
        "    Forward and backward propagation on the neural network\n",
        "    :param decoder: The PyTorch Module that holds the neural network\n",
        "    :param decoder_optimizer: The PyTorch optimizer for the neural network\n",
        "    :param criterion: The PyTorch loss function\n",
        "    :param inp: A batch of input to the neural network\n",
        "    :param target: The target output for the batch of input\n",
        "    :return: The loss and the latest hidden state Tensor\n",
        "    \"\"\"\n",
        "    if(train_on_gpu):\n",
        "        inputs, labels = inputs.cuda(), labels.cuda()\n",
        "\n",
        "    #hidden = repackage_hidden(hidden)\n",
        "    hidden = tuple([each.data for each in hidden_dim])\n",
        "\n",
        "    rnn.zero_grad()\n",
        "    optimizer.zero_grad()\n",
        "\n",
        "    try:\n",
        "        # get the output from the model\n",
        "        output, hidden = rnn(inputs, hidden)\n",
        "    except RuntimeError:\n",
        "        raise\n",
        "    # print(labels)\n",
        "    loss = criterion(output, labels)\n",
        "    loss.backward()\n",
        "\n",
        "    # `clip_grad_norm` helps prevent the exploding gradient problem in RNNs / LSTMs.\n",
        "    nn.utils.clip_grad_norm_(rnn.parameters(),  clip)\n",
        "    # for p in rnn.parameters():\n",
        "        # p.data.add_(-learning_rate, p.grad.data)\n",
        "\n",
        "    optimizer.step()\n",
        "    # return the loss over a batch and the hidden state produced by our model\n",
        "    return loss.item(), hidden\n",
        "\n",
        "# Note that these tests aren't completely extensive.\n",
        "# they are here to act as general checks on the expected outputs of your functions\n",
        "\"\"\"\n",
        "DON'T MODIFY ANYTHING IN THIS CELL THAT IS BELOW THIS LINE\n",
        "\"\"\"\n",
        "tests.test_forward_back_prop(RNN, forward_back_prop, train_on_gpu)"
      ]
    },
    {
      "cell_type": "code",
      "execution_count": 19,
      "metadata": {
        "id": "cj2lwdPRnvxr"
      },
      "outputs": [],
      "source": []
    },
    {
      "cell_type": "markdown",
      "metadata": {
        "id": "LUnVYyLInvxs"
      },
      "source": [
        "## Neural Network Training\n",
        "\n",
        "With the structure of the network complete and data ready to be fed in the neural network, it's time to train it.\n",
        "\n",
        "### Train Loop\n",
        "\n",
        "The training loop is implemented for you in the `train_decoder` function. This function will train the network over all the batches for the number of epochs given. The model progress will be shown every number of batches. This number is set with the `show_every_n_batches` parameter. You'll set this parameter along with other parameters in the next section."
      ]
    },
    {
      "cell_type": "code",
      "execution_count": 20,
      "metadata": {
        "id": "OZ1UD3Xunvxv"
      },
      "outputs": [],
      "source": [
        "\"\"\"\n",
        "DON'T MODIFY ANYTHING IN THIS CELL\n",
        "\"\"\"\n",
        "\n",
        "def train_rnn(rnn, batch_size, optimizer, criterion, n_epochs, show_every_n_batches=100):\n",
        "    batch_losses = []\n",
        "\n",
        "    rnn.train()\n",
        "\n",
        "    previousLoss = np.Inf\n",
        "    minLoss = np.Inf\n",
        "\n",
        "    print(\"Training for %d epoch(s)...\" % n_epochs)\n",
        "    for epoch_i in range(1, n_epochs + 1):\n",
        "\n",
        "        # initialize hidden state\n",
        "        hidden = rnn.init_hidden(batch_size)\n",
        "        print(\"epoch \",epoch_i)\n",
        "        for batch_i, (inputs, labels) in enumerate(train_loader, 1):\n",
        "            batch_last = batch_i\n",
        "            # print(batch_i)\n",
        "            # make sure you iterate over completely full batches, only\n",
        "            n_batches = len(train_loader.dataset) // batch_size\n",
        "            # n_batches = len(train_loader.dataset)\n",
        "            # print(\"{} > {}\".format(batch_i, n_batches))\n",
        "            if(batch_i > n_batches):\n",
        "                break\n",
        "\n",
        "            # forward, back prop\n",
        "            # print(inputs.shape)\n",
        "            # labels = labels.view(labels.numel())\n",
        "            # labels = torch.flatten(labels, dim=1)\n",
        "            # print(labels.shape)\n",
        "            loss, hidden = forward_back_prop(rnn, optimizer, criterion, inputs, labels, hidden, clip=5)\n",
        "            # record loss\n",
        "            batch_losses.append(loss)\n",
        "\n",
        "            # print(\"{} > {}\".format(batch_i, n_batches))\n",
        "            # print(batch_i % show_every_n_batches)\n",
        "\n",
        "            # printing loss stats\n",
        "            if batch_i % show_every_n_batches == 0:\n",
        "                average_loss = np.average(batch_losses)\n",
        "                print('Epoch: {:>4}/{:<4}  Loss: {} Decrease Rate: {} \\n'.format(epoch_i, n_epochs, average_loss, (previousLoss - average_loss)))\n",
        "                if average_loss <= previousLoss:\n",
        "                    previousLoss = average_loss\n",
        "                if average_loss <= minLoss:\n",
        "                    minLoss = average_loss\n",
        "                    helper.save_model('./save/trained_rnn_new', rnn)\n",
        "                    print('Model Trained and Saved')\n",
        "                # else:\n",
        "                    # rnn = helper.load_model('./save/trained_rnn_new')\n",
        "                batch_losses = []\n",
        "    # returns a trained rnn\n",
        "    return rnn"
      ]
    },
    {
      "cell_type": "markdown",
      "metadata": {
        "id": "SiMLlGg8nvx3"
      },
      "source": [
        "### Hyperparameters\n",
        "\n",
        "Set and train the neural network with the following parameters:\n",
        "- Set `sequence_length` to the length of a sequence.\n",
        "- Set `batch_size` to the batch size.\n",
        "- Set `num_epochs` to the number of epochs to train for.\n",
        "- Set `learning_rate` to the learning rate for an Adam optimizer.\n",
        "- Set `vocab_size` to the number of uniqe tokens in our vocabulary.\n",
        "- Set `output_size` to the desired size of the output.\n",
        "- Set `embedding_dim` to the embedding dimension; smaller than the vocab_size.\n",
        "- Set `hidden_dim` to the hidden dimension of your RNN.\n",
        "- Set `n_layers` to the number of layers/cells in your RNN.\n",
        "- Set `show_every_n_batches` to the number of batches at which the neural network should print progress.\n",
        "\n",
        "If the network isn't getting the desired results, tweak these parameters and/or the layers in the `RNN` class."
      ]
    },
    {
      "cell_type": "code",
      "execution_count": 21,
      "metadata": {
        "colab": {
          "base_uri": "https://localhost:8080/"
        },
        "id": "aCj4GbhKnvx4",
        "outputId": "a2a8c6a0-3f3e-43cd-9567-2deb77dada7f"
      },
      "outputs": [
        {
          "output_type": "execute_result",
          "data": {
            "text/plain": [
              "21388"
            ]
          },
          "metadata": {},
          "execution_count": 21
        }
      ],
      "source": [
        "len(vocab_to_int)"
      ]
    },
    {
      "cell_type": "code",
      "execution_count": 22,
      "metadata": {
        "colab": {
          "base_uri": "https://localhost:8080/"
        },
        "id": "cq6ILQaknvx6",
        "outputId": "5b97172b-7135-490a-b7ab-c29d23fe620a"
      },
      "outputs": [
        {
          "output_type": "stream",
          "name": "stdout",
          "text": [
            "(891643, 6)\n",
            "(891643,)\n"
          ]
        }
      ],
      "source": [
        "# Data params\n",
        "# Sequence Length\n",
        "sequence_length = 6  # of words in a sequence 892110\n",
        "# Batch Size\n",
        "# batch_size = 128\n",
        "batch_size = 128\n",
        "\n",
        "# data loader - do not change\n",
        "# test_text = range(892110)\n",
        "train_loader = batch_data(int_text, sequence_length, batch_size)\n",
        "# train_loader = batch_data(test_text, sequence_length, batch_size)\n",
        "\n",
        "# data_iter = iter(train_loader)\n",
        "# sample_x, sample_y = data_iter.next()\n",
        "\n",
        "# print(sample_x.shape)\n",
        "# print(sample_x)\n",
        "# print()\n",
        "# print(sample_y.shape)\n",
        "# print(sample_y)"
      ]
    },
    {
      "cell_type": "code",
      "execution_count": 23,
      "metadata": {
        "id": "HfgpygOinvx-"
      },
      "outputs": [],
      "source": [
        "# Training parameters\n",
        "# Number of Epochs\n",
        "num_epochs = 10\n",
        "# Learning Rate\n",
        "learning_rate = 0.002\n",
        "\n",
        "# Model parameters\n",
        "# Vocab size\n",
        "# vocab_size = 46367\n",
        "vocab_size = len(vocab_to_int)\n",
        "# Output size\n",
        "# output_size = 46367\n",
        "output_size = len(vocab_to_int)\n",
        "# Embedding Dimension\n",
        "embedding_dim = 256\n",
        "# Hidden Dimension\n",
        "hidden_dim = 256\n",
        "# Number of RNN Layers\n",
        "n_layers = 2\n",
        "\n",
        "# Show stats for every n number of batches\n",
        "show_every_n_batches = 500"
      ]
    },
    {
      "cell_type": "markdown",
      "metadata": {
        "id": "q05lbcH9nvyA"
      },
      "source": [
        "### Train\n",
        "In the next cell, you'll train the neural network on the pre-processed data.  If you have a hard time getting a good loss, you may consider changing your hyperparameters. In general, you may get better results with larger hidden and n_layer dimensions, but larger models take a longer time to train.\n",
        "> **You should aim for a loss less than 3.5.**\n",
        "\n",
        "You should also experiment with different sequence lengths, which determine the size of the long range dependencies that a model can learn."
      ]
    },
    {
      "cell_type": "code",
      "execution_count": 24,
      "metadata": {
        "colab": {
          "base_uri": "https://localhost:8080/"
        },
        "id": "Wcp8e8LonvyB",
        "outputId": "fe74b85f-79d2-4cf8-d4b8-aff201a296b1"
      },
      "outputs": [
        {
          "output_type": "stream",
          "name": "stdout",
          "text": [
            "0.0002\n",
            "Training for 10 epoch(s)...\n",
            "epoch  1\n",
            "Epoch:    1/10    Loss: 5.296745308876037 Decrease Rate: inf \n",
            "\n",
            "Model Trained and Saved\n",
            "Epoch:    1/10    Loss: 4.717989958763122 Decrease Rate: 0.5787553501129148 \n",
            "\n",
            "Model Trained and Saved\n",
            "Epoch:    1/10    Loss: 4.512915946960449 Decrease Rate: 0.20507401180267326 \n",
            "\n",
            "Model Trained and Saved\n",
            "Epoch:    1/10    Loss: 4.420553929328919 Decrease Rate: 0.09236201763153051 \n",
            "\n",
            "Model Trained and Saved\n",
            "Epoch:    1/10    Loss: 4.3395841026306154 Decrease Rate: 0.08096982669830322 \n",
            "\n",
            "Model Trained and Saved\n",
            "Epoch:    1/10    Loss: 4.269636713981629 Decrease Rate: 0.06994738864898675 \n",
            "\n",
            "Model Trained and Saved\n",
            "Epoch:    1/10    Loss: 4.251003866672516 Decrease Rate: 0.018632847309112854 \n",
            "\n",
            "Model Trained and Saved\n",
            "Epoch:    1/10    Loss: 4.200140895843506 Decrease Rate: 0.05086297082900959 \n",
            "\n",
            "Model Trained and Saved\n",
            "Epoch:    1/10    Loss: 4.1605742044448855 Decrease Rate: 0.03956669139862079 \n",
            "\n",
            "Model Trained and Saved\n",
            "Epoch:    1/10    Loss: 4.16035028886795 Decrease Rate: 0.00022391557693524078 \n",
            "\n",
            "Model Trained and Saved\n",
            "Epoch:    1/10    Loss: 4.170599948883057 Decrease Rate: -0.010249660015106521 \n",
            "\n",
            "Epoch:    1/10    Loss: 4.133870607852936 Decrease Rate: 0.0264796810150143 \n",
            "\n",
            "Model Trained and Saved\n",
            "Epoch:    1/10    Loss: 4.084120990753174 Decrease Rate: 0.04974961709976178 \n",
            "\n",
            "Model Trained and Saved\n",
            "epoch  2\n",
            "Epoch:    2/10    Loss: 3.9663134364884134 Decrease Rate: 0.11780755426476075 \n",
            "\n",
            "Model Trained and Saved\n",
            "Epoch:    2/10    Loss: 3.9012700982093813 Decrease Rate: 0.06504333827903208 \n",
            "\n",
            "Model Trained and Saved\n",
            "Epoch:    2/10    Loss: 3.892932810306549 Decrease Rate: 0.00833728790283228 \n",
            "\n",
            "Model Trained and Saved\n",
            "Epoch:    2/10    Loss: 3.881107973098755 Decrease Rate: 0.011824837207794037 \n",
            "\n",
            "Model Trained and Saved\n",
            "Epoch:    2/10    Loss: 3.901251573085785 Decrease Rate: -0.02014359998702986 \n",
            "\n",
            "Epoch:    2/10    Loss: 3.892989914417267 Decrease Rate: -0.011881941318511835 \n",
            "\n",
            "Epoch:    2/10    Loss: 3.8697447810173036 Decrease Rate: 0.011363192081451423 \n",
            "\n",
            "Model Trained and Saved\n",
            "Epoch:    2/10    Loss: 3.852508584976196 Decrease Rate: 0.017236196041107377 \n",
            "\n",
            "Model Trained and Saved\n",
            "Epoch:    2/10    Loss: 3.8659156045913696 Decrease Rate: -0.013407019615173432 \n",
            "\n",
            "Epoch:    2/10    Loss: 3.857989595413208 Decrease Rate: -0.0054810104370117685 \n",
            "\n",
            "Epoch:    2/10    Loss: 3.8713345527648926 Decrease Rate: -0.018825967788696385 \n",
            "\n",
            "Epoch:    2/10    Loss: 3.8575783872604372 Decrease Rate: -0.005069802284241032 \n",
            "\n",
            "Epoch:    2/10    Loss: 3.8499415221214295 Decrease Rate: 0.0025670628547667107 \n",
            "\n",
            "Model Trained and Saved\n",
            "epoch  3\n",
            "Epoch:    3/10    Loss: 3.76768243745201 Decrease Rate: 0.08225908466941956 \n",
            "\n",
            "Model Trained and Saved\n",
            "Epoch:    3/10    Loss: 3.681192927360535 Decrease Rate: 0.0864895100914751 \n",
            "\n",
            "Model Trained and Saved\n",
            "Epoch:    3/10    Loss: 3.6863167304992674 Decrease Rate: -0.005123803138732619 \n",
            "\n",
            "Epoch:    3/10    Loss: 3.6643894805908204 Decrease Rate: 0.01680344676971446 \n",
            "\n",
            "Model Trained and Saved\n",
            "Epoch:    3/10    Loss: 3.680868724822998 Decrease Rate: -0.016479244232177503 \n",
            "\n",
            "Epoch:    3/10    Loss: 3.696024730205536 Decrease Rate: -0.031635249614715644 \n",
            "\n",
            "Epoch:    3/10    Loss: 3.6950553245544433 Decrease Rate: -0.03066584396362293 \n",
            "\n",
            "Epoch:    3/10    Loss: 3.6922956538200378 Decrease Rate: -0.0279061732292174 \n",
            "\n",
            "Epoch:    3/10    Loss: 3.702931679725647 Decrease Rate: -0.03854219913482648 \n",
            "\n",
            "Epoch:    3/10    Loss: 3.708989619731903 Decrease Rate: -0.04460013914108263 \n",
            "\n",
            "Epoch:    3/10    Loss: 3.709537878036499 Decrease Rate: -0.04514839744567878 \n",
            "\n",
            "Epoch:    3/10    Loss: 3.7048830943107607 Decrease Rate: -0.04049361371994031 \n",
            "\n",
            "Epoch:    3/10    Loss: 3.7069904651641847 Decrease Rate: -0.042600984573364364 \n",
            "\n",
            "epoch  4\n",
            "Epoch:    4/10    Loss: 3.61369516268913 Decrease Rate: 0.05069431790169032 \n",
            "\n",
            "Model Trained and Saved\n",
            "Epoch:    4/10    Loss: 3.533756263256073 Decrease Rate: 0.07993889943305721 \n",
            "\n",
            "Model Trained and Saved\n",
            "Epoch:    4/10    Loss: 3.5359830799102783 Decrease Rate: -0.0022268166542054324 \n",
            "\n",
            "Epoch:    4/10    Loss: 3.554152277469635 Decrease Rate: -0.020396014213562186 \n",
            "\n",
            "Epoch:    4/10    Loss: 3.5331400542259215 Decrease Rate: 0.0006162090301513601 \n",
            "\n",
            "Model Trained and Saved\n",
            "Epoch:    4/10    Loss: 3.5686950640678408 Decrease Rate: -0.03555500984191928 \n",
            "\n",
            "Epoch:    4/10    Loss: 3.5761373915672303 Decrease Rate: -0.04299733734130884 \n",
            "\n",
            "Epoch:    4/10    Loss: 3.5866412825584413 Decrease Rate: -0.0535012283325198 \n",
            "\n",
            "Epoch:    4/10    Loss: 3.5763967432975767 Decrease Rate: -0.04325668907165525 \n",
            "\n",
            "Epoch:    4/10    Loss: 3.5858462247848513 Decrease Rate: -0.05270617055892979 \n",
            "\n",
            "Epoch:    4/10    Loss: 3.57919095659256 Decrease Rate: -0.046050902366638446 \n",
            "\n",
            "Epoch:    4/10    Loss: 3.6068843445777894 Decrease Rate: -0.07374429035186791 \n",
            "\n",
            "Epoch:    4/10    Loss: 3.602764638900757 Decrease Rate: -0.06962458467483534 \n",
            "\n",
            "epoch  5\n",
            "Epoch:    5/10    Loss: 3.5048037415341393 Decrease Rate: 0.02833631269178216 \n",
            "\n",
            "Model Trained and Saved\n",
            "Epoch:    5/10    Loss: 3.419179859161377 Decrease Rate: 0.08562388237276242 \n",
            "\n",
            "Model Trained and Saved\n",
            "Epoch:    5/10    Loss: 3.4344570636749268 Decrease Rate: -0.015277204513549858 \n",
            "\n",
            "Epoch:    5/10    Loss: 3.416275598526001 Decrease Rate: 0.002904260635375966 \n",
            "\n",
            "Model Trained and Saved\n",
            "Epoch:    5/10    Loss: 3.439453800201416 Decrease Rate: -0.023178201675415178 \n",
            "\n",
            "Epoch:    5/10    Loss: 3.4497357592582705 Decrease Rate: -0.03346016073226954 \n",
            "\n",
            "Epoch:    5/10    Loss: 3.48442818069458 Decrease Rate: -0.06815258216857911 \n",
            "\n",
            "Epoch:    5/10    Loss: 3.483591951370239 Decrease Rate: -0.0673163528442382 \n",
            "\n",
            "Epoch:    5/10    Loss: 3.496916216850281 Decrease Rate: -0.08064061832428004 \n",
            "\n",
            "Epoch:    5/10    Loss: 3.507475047111511 Decrease Rate: -0.0911994485855101 \n",
            "\n",
            "Epoch:    5/10    Loss: 3.5087032885551452 Decrease Rate: -0.0924276900291443 \n",
            "\n",
            "Epoch:    5/10    Loss: 3.5156737284660338 Decrease Rate: -0.09939812994003283 \n",
            "\n",
            "Epoch:    5/10    Loss: 3.543897321224213 Decrease Rate: -0.12762172269821193 \n",
            "\n",
            "epoch  6\n",
            "Epoch:    6/10    Loss: 3.4404050789966485 Decrease Rate: -0.024129480470647557 \n",
            "\n",
            "Epoch:    6/10    Loss: 3.320690480232239 Decrease Rate: 0.09558511829376215 \n",
            "\n",
            "Model Trained and Saved\n",
            "Epoch:    6/10    Loss: 3.3546653451919557 Decrease Rate: -0.03397486495971691 \n",
            "\n",
            "Epoch:    6/10    Loss: 3.3727631387710573 Decrease Rate: -0.052072658538818484 \n",
            "\n",
            "Epoch:    6/10    Loss: 3.3739928107261656 Decrease Rate: -0.05330233049392685 \n",
            "\n",
            "Epoch:    6/10    Loss: 3.384434926509857 Decrease Rate: -0.06374444627761822 \n",
            "\n",
            "Epoch:    6/10    Loss: 3.3957352266311647 Decrease Rate: -0.07504474639892589 \n",
            "\n",
            "Epoch:    6/10    Loss: 3.4262080459594726 Decrease Rate: -0.10551756572723381 \n",
            "\n",
            "Epoch:    6/10    Loss: 3.406066060066223 Decrease Rate: -0.08537557983398436 \n",
            "\n",
            "Epoch:    6/10    Loss: 3.4524791021347045 Decrease Rate: -0.13178862190246576 \n",
            "\n",
            "Epoch:    6/10    Loss: 3.4411626052856445 Decrease Rate: -0.12047212505340577 \n",
            "\n",
            "Epoch:    6/10    Loss: 3.4656420617103576 Decrease Rate: -0.14495158147811882 \n",
            "\n",
            "Epoch:    6/10    Loss: 3.4925752515792845 Decrease Rate: -0.17188477134704572 \n",
            "\n",
            "epoch  7\n",
            "Epoch:    7/10    Loss: 3.3705662710061346 Decrease Rate: -0.04987579077389581 \n",
            "\n",
            "Epoch:    7/10    Loss: 3.2942623023986815 Decrease Rate: 0.02642817783355733 \n",
            "\n",
            "Model Trained and Saved\n",
            "Epoch:    7/10    Loss: 3.3034166760444643 Decrease Rate: -0.009154373645782865 \n",
            "\n",
            "Epoch:    7/10    Loss: 3.316940957546234 Decrease Rate: -0.02267865514755263 \n",
            "\n",
            "Epoch:    7/10    Loss: 3.3181309013366698 Decrease Rate: -0.023868598937988317 \n",
            "\n",
            "Epoch:    7/10    Loss: 3.33873255109787 Decrease Rate: -0.044470248699188364 \n",
            "\n",
            "Epoch:    7/10    Loss: 3.3666142859458925 Decrease Rate: -0.07235198354721106 \n",
            "\n",
            "Epoch:    7/10    Loss: 3.3640403237342835 Decrease Rate: -0.06977802133560207 \n",
            "\n",
            "Epoch:    7/10    Loss: 3.3595734457969666 Decrease Rate: -0.06531114339828514 \n",
            "\n",
            "Epoch:    7/10    Loss: 3.390218244075775 Decrease Rate: -0.09595594167709365 \n",
            "\n",
            "Epoch:    7/10    Loss: 3.416464044570923 Decrease Rate: -0.12220174217224145 \n",
            "\n",
            "Epoch:    7/10    Loss: 3.4023199033737184 Decrease Rate: -0.10805760097503692 \n",
            "\n",
            "Epoch:    7/10    Loss: 3.420905580043793 Decrease Rate: -0.1266432776451114 \n",
            "\n",
            "epoch  8\n",
            "Epoch:    8/10    Loss: 3.317188598207859 Decrease Rate: -0.0229262958091776 \n",
            "\n",
            "Epoch:    8/10    Loss: 3.248491798877716 Decrease Rate: 0.045770503520965455 \n",
            "\n",
            "Model Trained and Saved\n",
            "Epoch:    8/10    Loss: 3.261442608833313 Decrease Rate: -0.012950809955596831 \n",
            "\n",
            "Epoch:    8/10    Loss: 3.2829409551620485 Decrease Rate: -0.03444915628433254 \n",
            "\n",
            "Epoch:    8/10    Loss: 3.2845678396224978 Decrease Rate: -0.03607604074478177 \n",
            "\n",
            "Epoch:    8/10    Loss: 3.2938589329719545 Decrease Rate: -0.04536713409423854 \n",
            "\n",
            "Epoch:    8/10    Loss: 3.307378885269165 Decrease Rate: -0.05888708639144902 \n",
            "\n",
            "Epoch:    8/10    Loss: 3.33446403837204 Decrease Rate: -0.08597223949432387 \n",
            "\n",
            "Epoch:    8/10    Loss: 3.3444562458992007 Decrease Rate: -0.09596444702148466 \n",
            "\n",
            "Epoch:    8/10    Loss: 3.3486141695976257 Decrease Rate: -0.1001223707199097 \n",
            "\n",
            "Epoch:    8/10    Loss: 3.3596011357307436 Decrease Rate: -0.1111093368530276 \n",
            "\n",
            "Epoch:    8/10    Loss: 3.3633588123321534 Decrease Rate: -0.1148670134544374 \n",
            "\n",
            "Epoch:    8/10    Loss: 3.383742691516876 Decrease Rate: -0.13525089263916001 \n",
            "\n",
            "epoch  9\n",
            "Epoch:    9/10    Loss: 3.277036479594176 Decrease Rate: -0.028544680716460213 \n",
            "\n",
            "Epoch:    9/10    Loss: 3.192375928401947 Decrease Rate: 0.056115870475768936 \n",
            "\n",
            "Model Trained and Saved\n",
            "Epoch:    9/10    Loss: 3.2300387711524965 Decrease Rate: -0.03766284275054943 \n",
            "\n",
            "Epoch:    9/10    Loss: 3.2559664998054503 Decrease Rate: -0.06359057140350322 \n",
            "\n",
            "Epoch:    9/10    Loss: 3.24383509349823 Decrease Rate: -0.05145916509628279 \n",
            "\n",
            "Epoch:    9/10    Loss: 3.275140996932983 Decrease Rate: -0.08276506853103616 \n",
            "\n",
            "Epoch:    9/10    Loss: 3.287144410133362 Decrease Rate: -0.09476848173141494 \n",
            "\n",
            "Epoch:    9/10    Loss: 3.2952415537834168 Decrease Rate: -0.1028656253814697 \n",
            "\n",
            "Epoch:    9/10    Loss: 3.2928768839836122 Decrease Rate: -0.10050095558166516 \n",
            "\n",
            "Epoch:    9/10    Loss: 3.316306992530823 Decrease Rate: -0.12393106412887578 \n",
            "\n",
            "Epoch:    9/10    Loss: 3.338500725746155 Decrease Rate: -0.1461247973442079 \n",
            "\n",
            "Epoch:    9/10    Loss: 3.342083542346954 Decrease Rate: -0.1497076139450071 \n",
            "\n",
            "Epoch:    9/10    Loss: 3.359394771099091 Decrease Rate: -0.16701884269714373 \n",
            "\n",
            "epoch  10\n",
            "Epoch:   10/10    Loss: 3.2651916657087097 Decrease Rate: -0.0728157373067626 \n",
            "\n",
            "Epoch:   10/10    Loss: 3.1814563336372377 Decrease Rate: 0.010919594764709384 \n",
            "\n",
            "Model Trained and Saved\n",
            "Epoch:   10/10    Loss: 3.180082530975342 Decrease Rate: 0.0013738026618956845 \n",
            "\n",
            "Model Trained and Saved\n",
            "Epoch:   10/10    Loss: 3.2013563780784606 Decrease Rate: -0.021273847103118637 \n",
            "\n",
            "Epoch:   10/10    Loss: 3.23998241853714 Decrease Rate: -0.05989988756179798 \n",
            "\n",
            "Epoch:   10/10    Loss: 3.2417832231521606 Decrease Rate: -0.06170069217681862 \n",
            "\n",
            "Epoch:   10/10    Loss: 3.261187096118927 Decrease Rate: -0.0811045651435851 \n",
            "\n",
            "Epoch:   10/10    Loss: 3.266584653377533 Decrease Rate: -0.0865021224021909 \n",
            "\n",
            "Epoch:   10/10    Loss: 3.2794260749816893 Decrease Rate: -0.09934354400634726 \n",
            "\n",
            "Epoch:   10/10    Loss: 3.283896768093109 Decrease Rate: -0.10381423711776705 \n",
            "\n",
            "Epoch:   10/10    Loss: 3.3141008901596067 Decrease Rate: -0.13401835918426475 \n",
            "\n",
            "Epoch:   10/10    Loss: 3.2966383352279665 Decrease Rate: -0.11655580425262446 \n",
            "\n",
            "Epoch:   10/10    Loss: 3.314070689678192 Decrease Rate: -0.13398815870284997 \n",
            "\n",
            "Model Trained and Saved\n"
          ]
        }
      ],
      "source": [
        "\"\"\"\n",
        "DON'T MODIFY ANYTHING IN THIS CELL\n",
        "\"\"\"\n",
        "\n",
        "# create model and move to gpu if available\n",
        "rnn = RNN(vocab_size, output_size, embedding_dim, hidden_dim, n_layers, dropout=0.25)\n",
        "# rnn.apply(weight_init)\n",
        "# rnn = helper.load_model('./save/trained_rnn')\n",
        "\n",
        "if train_on_gpu:\n",
        "    rnn.cuda()\n",
        "\n",
        "decay_rate = learning_rate / num_epochs\n",
        "\n",
        "print(decay_rate)\n",
        "# defining loss and optimization functions for training\n",
        "optimizer = torch.optim.Adam(rnn.parameters(), lr=learning_rate)\n",
        "# optimizer = torch.optim.SGD(rnn.parameters(), lr=learning_rate, momentum=0.9, weight_decay=decay_rate)\n",
        "\n",
        "criterion = nn.CrossEntropyLoss()\n",
        "\n",
        "# rnn = helper.load_model('./save/trained_rnn_new')\n",
        "\n",
        "# training the model\n",
        "trained_rnn = train_rnn(rnn, batch_size, optimizer, criterion, num_epochs, show_every_n_batches)\n",
        "\n",
        "# saving the trained model\n",
        "# helper.save_model('./save/trained_rnn', trained_rnn)\n",
        "print('Model Trained and Saved')"
      ]
    },
    {
      "cell_type": "markdown",
      "metadata": {
        "id": "b5sYPyylnvyF"
      },
      "source": [
        "Last Saved Model\n",
        "\n",
        "Epoch:   10/10    Loss: 3.225219102859497 Decrease Rate: 0.02540768861770637\n",
        "Model Trained and Saved\n",
        "\n",
        "(since the las prnt statement is useless, i just forgot to comment)"
      ]
    },
    {
      "cell_type": "markdown",
      "metadata": {
        "id": "qcemLh_BnvyG"
      },
      "source": [
        "### Question: How did you decide on your model hyperparameters?\n",
        "For example, did you try different sequence_lengths and find that one size made the model converge faster? What about your hidden_dim and n_layers; how did you decide on those?"
      ]
    },
    {
      "cell_type": "markdown",
      "metadata": {
        "id": "2u4ejrDpnvyH"
      },
      "source": [
        "**Answer:**\n",
        "\n",
        "- Initially i tried with high sequence_lengths to 70 and batch size of 300 then while generating the script i found some junk text or symbols like '---' at the end of each script then i tried sequence_lengths with 6 (average paragraph length is 5.5) and trained up to loss 3.22 (Saved One) then i generated the script it look like more readable with little grammatical\n",
        "- i read some blog's regarding hyper parameter there i got some idea how to increase batch size, embedding_dim and hidden_dim. For batch size and hidden_dim we can try 16, 32, 64, 128, 258. And for embedding_dim best option is choosing between 200 to 300, for learning rate it better to start from lower learning rate 0.0002 to 0.02.\n",
        "- I add droupout as 0.25 because less droupout will help the network to learn deep and stop overfitting. preferred choice for droupout is 0.25 to 0.7\n",
        "- Initially i tried with high embedding_dim to 1500 and hidden_dim to 900 the starting training loss is nearly 6.8 and it keeps on increasing for more than 3 epochs. after many trials i change embedding_dim to 256 (between 200 to 300) and hidden_dim to 256 and bring down the training loss to 3.22 Saved one\n",
        "- i read research papers for RNN regarding word sequencing, NLP etc got some information regarding n_layers. i set the n_layers to 3 to get better result"
      ]
    },
    {
      "cell_type": "markdown",
      "metadata": {
        "id": "XIOzH28LnvyI"
      },
      "source": [
        "---\n",
        "# Checkpoint\n",
        "\n",
        "After running the above training cell, your model will be saved by name, `trained_rnn`, and if you save your notebook progress, **you can pause here and come back to this code at another time**. You can resume your progress by running the next cell, which will load in our word:id dictionaries _and_ load in your saved model by name!"
      ]
    },
    {
      "cell_type": "code",
      "execution_count": 21,
      "metadata": {
        "colab": {
          "base_uri": "https://localhost:8080/",
          "height": 390
        },
        "id": "lB6gdi1fnvyJ",
        "outputId": "c61a0330-66cb-43b6-8a0c-03357dd90531"
      },
      "outputs": [
        {
          "output_type": "stream",
          "name": "stderr",
          "text": [
            "/content/helper.py:55: FutureWarning: You are using `torch.load` with `weights_only=False` (the current default value), which uses the default pickle module implicitly. It is possible to construct malicious pickle data which will execute arbitrary code during unpickling (See https://github.com/pytorch/pytorch/blob/main/SECURITY.md#untrusted-models for more details). In a future release, the default value for `weights_only` will be flipped to `True`. This limits the functions that could be executed during unpickling. Arbitrary objects will no longer be allowed to be loaded via this mode unless they are explicitly allowlisted by the user via `torch.serialization.add_safe_globals`. We recommend you start setting `weights_only=True` for any use case where you don't have full control of the loaded file. Please open an issue on GitHub for any issues related to this experimental feature.\n",
            "  return torch.load(save_filename)\n"
          ]
        },
        {
          "output_type": "error",
          "ename": "AttributeError",
          "evalue": "Can't get attribute 'RNN' on <module '__main__'>",
          "traceback": [
            "\u001b[0;31m---------------------------------------------------------------------------\u001b[0m",
            "\u001b[0;31mAttributeError\u001b[0m                            Traceback (most recent call last)",
            "\u001b[0;32m<ipython-input-21-75c0c2b92326>\u001b[0m in \u001b[0;36m<cell line: 9>\u001b[0;34m()\u001b[0m\n\u001b[1;32m      7\u001b[0m \u001b[0;34m\u001b[0m\u001b[0m\n\u001b[1;32m      8\u001b[0m \u001b[0m_\u001b[0m\u001b[0;34m,\u001b[0m \u001b[0mvocab_to_int\u001b[0m\u001b[0;34m,\u001b[0m \u001b[0mint_to_vocab\u001b[0m\u001b[0;34m,\u001b[0m \u001b[0mtoken_dict\u001b[0m \u001b[0;34m=\u001b[0m \u001b[0mhelper\u001b[0m\u001b[0;34m.\u001b[0m\u001b[0mload_preprocess\u001b[0m\u001b[0;34m(\u001b[0m\u001b[0;34m)\u001b[0m\u001b[0;34m\u001b[0m\u001b[0;34m\u001b[0m\u001b[0m\n\u001b[0;32m----> 9\u001b[0;31m \u001b[0mtrained_rnn\u001b[0m \u001b[0;34m=\u001b[0m \u001b[0mhelper\u001b[0m\u001b[0;34m.\u001b[0m\u001b[0mload_model\u001b[0m\u001b[0;34m(\u001b[0m\u001b[0;34m'/content/trained_rnn_new.pt'\u001b[0m\u001b[0;34m)\u001b[0m\u001b[0;34m\u001b[0m\u001b[0;34m\u001b[0m\u001b[0m\n\u001b[0m",
            "\u001b[0;32m/content/helper.py\u001b[0m in \u001b[0;36mload_model\u001b[0;34m(filename)\u001b[0m\n\u001b[1;32m     53\u001b[0m \u001b[0;32mdef\u001b[0m \u001b[0mload_model\u001b[0m\u001b[0;34m(\u001b[0m\u001b[0mfilename\u001b[0m\u001b[0;34m)\u001b[0m\u001b[0;34m:\u001b[0m\u001b[0;34m\u001b[0m\u001b[0;34m\u001b[0m\u001b[0m\n\u001b[1;32m     54\u001b[0m     \u001b[0msave_filename\u001b[0m \u001b[0;34m=\u001b[0m \u001b[0mos\u001b[0m\u001b[0;34m.\u001b[0m\u001b[0mpath\u001b[0m\u001b[0;34m.\u001b[0m\u001b[0msplitext\u001b[0m\u001b[0;34m(\u001b[0m\u001b[0mos\u001b[0m\u001b[0;34m.\u001b[0m\u001b[0mpath\u001b[0m\u001b[0;34m.\u001b[0m\u001b[0mbasename\u001b[0m\u001b[0;34m(\u001b[0m\u001b[0mfilename\u001b[0m\u001b[0;34m)\u001b[0m\u001b[0;34m)\u001b[0m\u001b[0;34m[\u001b[0m\u001b[0;36m0\u001b[0m\u001b[0;34m]\u001b[0m \u001b[0;34m+\u001b[0m \u001b[0;34m'.pt'\u001b[0m\u001b[0;34m\u001b[0m\u001b[0;34m\u001b[0m\u001b[0m\n\u001b[0;32m---> 55\u001b[0;31m     \u001b[0;32mreturn\u001b[0m \u001b[0mtorch\u001b[0m\u001b[0;34m.\u001b[0m\u001b[0mload\u001b[0m\u001b[0;34m(\u001b[0m\u001b[0msave_filename\u001b[0m\u001b[0;34m)\u001b[0m\u001b[0;34m\u001b[0m\u001b[0;34m\u001b[0m\u001b[0m\n\u001b[0m",
            "\u001b[0;32m/usr/local/lib/python3.10/dist-packages/torch/serialization.py\u001b[0m in \u001b[0;36mload\u001b[0;34m(f, map_location, pickle_module, weights_only, mmap, **pickle_load_args)\u001b[0m\n\u001b[1;32m   1358\u001b[0m                     \u001b[0;32mexcept\u001b[0m \u001b[0mpickle\u001b[0m\u001b[0;34m.\u001b[0m\u001b[0mUnpicklingError\u001b[0m \u001b[0;32mas\u001b[0m \u001b[0me\u001b[0m\u001b[0;34m:\u001b[0m\u001b[0;34m\u001b[0m\u001b[0;34m\u001b[0m\u001b[0m\n\u001b[1;32m   1359\u001b[0m                         \u001b[0;32mraise\u001b[0m \u001b[0mpickle\u001b[0m\u001b[0;34m.\u001b[0m\u001b[0mUnpicklingError\u001b[0m\u001b[0;34m(\u001b[0m\u001b[0m_get_wo_message\u001b[0m\u001b[0;34m(\u001b[0m\u001b[0mstr\u001b[0m\u001b[0;34m(\u001b[0m\u001b[0me\u001b[0m\u001b[0;34m)\u001b[0m\u001b[0;34m)\u001b[0m\u001b[0;34m)\u001b[0m \u001b[0;32mfrom\u001b[0m \u001b[0;32mNone\u001b[0m\u001b[0;34m\u001b[0m\u001b[0;34m\u001b[0m\u001b[0m\n\u001b[0;32m-> 1360\u001b[0;31m                 return _load(\n\u001b[0m\u001b[1;32m   1361\u001b[0m                     \u001b[0mopened_zipfile\u001b[0m\u001b[0;34m,\u001b[0m\u001b[0;34m\u001b[0m\u001b[0;34m\u001b[0m\u001b[0m\n\u001b[1;32m   1362\u001b[0m                     \u001b[0mmap_location\u001b[0m\u001b[0;34m,\u001b[0m\u001b[0;34m\u001b[0m\u001b[0;34m\u001b[0m\u001b[0m\n",
            "\u001b[0;32m/usr/local/lib/python3.10/dist-packages/torch/serialization.py\u001b[0m in \u001b[0;36m_load\u001b[0;34m(zip_file, map_location, pickle_module, pickle_file, overall_storage, **pickle_load_args)\u001b[0m\n\u001b[1;32m   1846\u001b[0m     \u001b[0;32mglobal\u001b[0m \u001b[0m_serialization_tls\u001b[0m\u001b[0;34m\u001b[0m\u001b[0;34m\u001b[0m\u001b[0m\n\u001b[1;32m   1847\u001b[0m     \u001b[0m_serialization_tls\u001b[0m\u001b[0;34m.\u001b[0m\u001b[0mmap_location\u001b[0m \u001b[0;34m=\u001b[0m \u001b[0mmap_location\u001b[0m\u001b[0;34m\u001b[0m\u001b[0;34m\u001b[0m\u001b[0m\n\u001b[0;32m-> 1848\u001b[0;31m     \u001b[0mresult\u001b[0m \u001b[0;34m=\u001b[0m \u001b[0munpickler\u001b[0m\u001b[0;34m.\u001b[0m\u001b[0mload\u001b[0m\u001b[0;34m(\u001b[0m\u001b[0;34m)\u001b[0m\u001b[0;34m\u001b[0m\u001b[0;34m\u001b[0m\u001b[0m\n\u001b[0m\u001b[1;32m   1849\u001b[0m     \u001b[0m_serialization_tls\u001b[0m\u001b[0;34m.\u001b[0m\u001b[0mmap_location\u001b[0m \u001b[0;34m=\u001b[0m \u001b[0;32mNone\u001b[0m\u001b[0;34m\u001b[0m\u001b[0;34m\u001b[0m\u001b[0m\n\u001b[1;32m   1850\u001b[0m \u001b[0;34m\u001b[0m\u001b[0m\n",
            "\u001b[0;32m/usr/local/lib/python3.10/dist-packages/torch/serialization.py\u001b[0m in \u001b[0;36mfind_class\u001b[0;34m(self, mod_name, name)\u001b[0m\n\u001b[1;32m   1835\u001b[0m                     \u001b[0;32mpass\u001b[0m\u001b[0;34m\u001b[0m\u001b[0;34m\u001b[0m\u001b[0m\n\u001b[1;32m   1836\u001b[0m             \u001b[0mmod_name\u001b[0m \u001b[0;34m=\u001b[0m \u001b[0mload_module_mapping\u001b[0m\u001b[0;34m.\u001b[0m\u001b[0mget\u001b[0m\u001b[0;34m(\u001b[0m\u001b[0mmod_name\u001b[0m\u001b[0;34m,\u001b[0m \u001b[0mmod_name\u001b[0m\u001b[0;34m)\u001b[0m\u001b[0;34m\u001b[0m\u001b[0;34m\u001b[0m\u001b[0m\n\u001b[0;32m-> 1837\u001b[0;31m             \u001b[0;32mreturn\u001b[0m \u001b[0msuper\u001b[0m\u001b[0;34m(\u001b[0m\u001b[0;34m)\u001b[0m\u001b[0;34m.\u001b[0m\u001b[0mfind_class\u001b[0m\u001b[0;34m(\u001b[0m\u001b[0mmod_name\u001b[0m\u001b[0;34m,\u001b[0m \u001b[0mname\u001b[0m\u001b[0;34m)\u001b[0m\u001b[0;34m\u001b[0m\u001b[0;34m\u001b[0m\u001b[0m\n\u001b[0m\u001b[1;32m   1838\u001b[0m \u001b[0;34m\u001b[0m\u001b[0m\n\u001b[1;32m   1839\u001b[0m     \u001b[0;31m# Load the data (which may in turn use `persistent_load` to load tensors)\u001b[0m\u001b[0;34m\u001b[0m\u001b[0;34m\u001b[0m\u001b[0m\n",
            "\u001b[0;31mAttributeError\u001b[0m: Can't get attribute 'RNN' on <module '__main__'>"
          ]
        }
      ],
      "source": [
        "\"\"\"\n",
        "DON'T MODIFY ANYTHING IN THIS CELL\n",
        "\"\"\"\n",
        "import torch\n",
        "import helper\n",
        "import problem_unittests as tests\n",
        "\n",
        "_, vocab_to_int, int_to_vocab, token_dict = helper.load_preprocess()\n",
        "trained_rnn = helper.load_model('/content/trained_rnn_new.pt')"
      ]
    },
    {
      "cell_type": "markdown",
      "metadata": {
        "id": "V917xzgHnvyJ"
      },
      "source": [
        "## Generate TV Script\n",
        "With the network trained and saved, you'll use it to generate a new, \"fake\" Seinfeld TV script in this section.\n",
        "\n",
        "### Generate Text\n",
        "To generate the text, the network needs to start with a single word and repeat its predictions until it reaches a set length. You'll be using the `generate` function to do this. It takes a word id to start with, `prime_id`, and generates a set length of text, `predict_len`. Also note that it uses topk sampling to introduce some randomness in choosing the most likely next word, given an output set of word scores!"
      ]
    },
    {
      "cell_type": "code",
      "execution_count": 4,
      "metadata": {
        "id": "_rdJLPmUnvyK"
      },
      "outputs": [],
      "source": [
        "\"\"\"\n",
        "DON'T MODIFY ANYTHING IN THIS CELL THAT IS BELOW THIS LINE\n",
        "\"\"\"\n",
        "import torch.nn.functional as F\n",
        "\n",
        "def generate(rnn, prime_id, int_to_vocab, token_dict, pad_value, predict_len=100):\n",
        "    \"\"\"\n",
        "    Generate text using the neural network\n",
        "    :param decoder: The PyTorch Module that holds the trained neural network\n",
        "    :param prime_id: The word id to start the first prediction\n",
        "    :param int_to_vocab: Dict of word id keys to word values\n",
        "    :param token_dict: Dict of puncuation tokens keys to puncuation values\n",
        "    :param pad_value: The value used to pad a sequence\n",
        "    :param predict_len: The length of text to generate\n",
        "    :return: The generated text\n",
        "    \"\"\"\n",
        "    rnn.eval()\n",
        "\n",
        "    # create a sequence (batch_size=1) with the prime_id\n",
        "    current_seq = np.full((1, sequence_length), pad_value)\n",
        "    current_seq[-1][-1] = prime_id\n",
        "    predicted = [int_to_vocab[prime_id]]\n",
        "\n",
        "    for _ in range(predict_len):\n",
        "        if train_on_gpu:\n",
        "            current_seq = torch.LongTensor(current_seq).cuda()\n",
        "        else:\n",
        "            current_seq = torch.LongTensor(current_seq)\n",
        "\n",
        "        # initialize the hidden state\n",
        "        hidden = rnn.init_hidden(current_seq.size(0))\n",
        "\n",
        "        # get the output of the rnn\n",
        "        output, _ = rnn(current_seq, hidden)\n",
        "\n",
        "        # get the next word probabilities\n",
        "        p = F.softmax(output, dim=1).data\n",
        "        if(train_on_gpu):\n",
        "            p = p.cpu() # move to cpu\n",
        "\n",
        "        # use top_k sampling to get the index of the next word\n",
        "        top_k = 5\n",
        "        p, top_i = p.topk(top_k)\n",
        "        top_i = top_i.numpy().squeeze()\n",
        "\n",
        "        # select the likely next word index with some element of randomness\n",
        "        p = p.numpy().squeeze()\n",
        "        word_i = np.random.choice(top_i, p=p/p.sum())\n",
        "\n",
        "        # retrieve that word from the dictionary\n",
        "        word = int_to_vocab[word_i]\n",
        "        predicted.append(word)\n",
        "\n",
        "        # the generated word becomes the next \"current sequence\" and the cycle can continue\n",
        "        current_seq = np.roll(current_seq, -1, 1)\n",
        "        current_seq[-1][-1] = word_i\n",
        "\n",
        "    gen_sentences = ' '.join(predicted)\n",
        "\n",
        "    # Replace punctuation tokens\n",
        "    for key, token in token_dict.items():\n",
        "        ending = ' ' if key in ['\\n', '(', '\"'] else ''\n",
        "        gen_sentences = gen_sentences.replace(' ' + token.lower(), key)\n",
        "    gen_sentences = gen_sentences.replace('\\n ', '\\n')\n",
        "    gen_sentences = gen_sentences.replace('( ', '(')\n",
        "\n",
        "    # return all the sentences\n",
        "    return gen_sentences"
      ]
    },
    {
      "cell_type": "markdown",
      "metadata": {
        "id": "7WD7Hng9nvyL"
      },
      "source": [
        "### Generate a New Script\n",
        "It's time to generate the text. Set `gen_length` to the length of TV script you want to generate and set `prime_word` to one of the following to start the prediction:\n",
        "- \"jerry\"\n",
        "- \"elaine\"\n",
        "- \"george\"\n",
        "- \"kramer\"\n",
        "\n",
        "You can set the prime word to _any word_ in our dictionary, but it's best to start with a name for generating a TV script. (You can also start with any other names you find in the original text file!)"
      ]
    },
    {
      "cell_type": "code",
      "execution_count": 5,
      "metadata": {
        "colab": {
          "base_uri": "https://localhost:8080/",
          "height": 219
        },
        "id": "dEFTwZ0RnvyM",
        "outputId": "7aa27b8e-3e0c-4207-97f2-faf990d3e718"
      },
      "outputs": [
        {
          "output_type": "error",
          "ename": "NameError",
          "evalue": "name 'trained_rnn' is not defined",
          "traceback": [
            "\u001b[0;31m---------------------------------------------------------------------------\u001b[0m",
            "\u001b[0;31mNameError\u001b[0m                                 Traceback (most recent call last)",
            "\u001b[0;32m<ipython-input-5-68a17c4d1704>\u001b[0m in \u001b[0;36m<cell line: 9>\u001b[0;34m()\u001b[0m\n\u001b[1;32m      7\u001b[0m \"\"\"\n\u001b[1;32m      8\u001b[0m \u001b[0mpad_word\u001b[0m \u001b[0;34m=\u001b[0m \u001b[0mhelper\u001b[0m\u001b[0;34m.\u001b[0m\u001b[0mSPECIAL_WORDS\u001b[0m\u001b[0;34m[\u001b[0m\u001b[0;34m'PADDING'\u001b[0m\u001b[0;34m]\u001b[0m\u001b[0;34m\u001b[0m\u001b[0;34m\u001b[0m\u001b[0m\n\u001b[0;32m----> 9\u001b[0;31m \u001b[0mgenerated_script\u001b[0m \u001b[0;34m=\u001b[0m \u001b[0mgenerate\u001b[0m\u001b[0;34m(\u001b[0m\u001b[0mtrained_rnn\u001b[0m\u001b[0;34m,\u001b[0m \u001b[0mvocab_to_int\u001b[0m\u001b[0;34m[\u001b[0m\u001b[0mprime_word\u001b[0m \u001b[0;34m+\u001b[0m \u001b[0;34m':'\u001b[0m\u001b[0;34m]\u001b[0m\u001b[0;34m,\u001b[0m \u001b[0mint_to_vocab\u001b[0m\u001b[0;34m,\u001b[0m \u001b[0mtoken_dict\u001b[0m\u001b[0;34m,\u001b[0m \u001b[0mvocab_to_int\u001b[0m\u001b[0;34m[\u001b[0m\u001b[0mpad_word\u001b[0m\u001b[0;34m]\u001b[0m\u001b[0;34m,\u001b[0m \u001b[0mgen_length\u001b[0m\u001b[0;34m)\u001b[0m\u001b[0;34m\u001b[0m\u001b[0;34m\u001b[0m\u001b[0m\n\u001b[0m\u001b[1;32m     10\u001b[0m \u001b[0mprint\u001b[0m\u001b[0;34m(\u001b[0m\u001b[0mgenerated_script\u001b[0m\u001b[0;34m)\u001b[0m\u001b[0;34m\u001b[0m\u001b[0;34m\u001b[0m\u001b[0m\n",
            "\u001b[0;31mNameError\u001b[0m: name 'trained_rnn' is not defined"
          ]
        }
      ],
      "source": [
        "# run the cell multiple times to get different results!\n",
        "gen_length = 400 # modify the length to your preference\n",
        "prime_word = 'jerry' # name for starting the script\n",
        "\n",
        "\"\"\"\n",
        "DON'T MODIFY ANYTHING IN THIS CELL THAT IS BELOW THIS LINE\n",
        "\"\"\"\n",
        "pad_word = helper.SPECIAL_WORDS['PADDING']\n",
        "generated_script = generate(trained_rnn, vocab_to_int[prime_word + ':'], int_to_vocab, token_dict, vocab_to_int[pad_word], gen_length)\n",
        "print(generated_script)"
      ]
    },
    {
      "cell_type": "markdown",
      "metadata": {
        "id": "kco5xakenvyN"
      },
      "source": [
        "#### Save your favorite scripts\n",
        "\n",
        "Once you have a script that you like (or find interesting), save it to a text file!"
      ]
    },
    {
      "cell_type": "code",
      "execution_count": null,
      "metadata": {
        "id": "2zq9tudOnvyN"
      },
      "outputs": [],
      "source": [
        "# save script to a text file\n",
        "f =  open(\"generated_script_1.txt\",\"w\")\n",
        "f.write(generated_script)\n",
        "f.close()"
      ]
    },
    {
      "cell_type": "markdown",
      "metadata": {
        "id": "7SDVCwWxnvyO"
      },
      "source": [
        "# The TV Script is Not Perfect\n",
        "It's ok if the TV script doesn't make perfect sense. It should look like alternating lines of dialogue, here is one such example of a few generated lines.\n",
        "\n",
        "### Example generated script\n",
        "\n",
        ">jerry: what about me?\n",
        ">\n",
        ">jerry: i don't have to wait.\n",
        ">\n",
        ">kramer:(to the sales table)\n",
        ">\n",
        ">elaine:(to jerry) hey, look at this, i'm a good doctor.\n",
        ">\n",
        ">newman:(to elaine) you think i have no idea of this...\n",
        ">\n",
        ">elaine: oh, you better take the phone, and he was a little nervous.\n",
        ">\n",
        ">kramer:(to the phone) hey, hey, jerry, i don't want to be a little bit.(to kramer and jerry) you can't.\n",
        ">\n",
        ">jerry: oh, yeah. i don't even know, i know.\n",
        ">\n",
        ">jerry:(to the phone) oh, i know.\n",
        ">\n",
        ">kramer:(laughing) you know...(to jerry) you don't know.\n",
        "\n",
        "You can see that there are multiple characters that say (somewhat) complete sentences, but it doesn't have to be perfect! It takes quite a while to get good results, and often, you'll have to use a smaller vocabulary (and discard uncommon words), or get more data.  The Seinfeld dataset is about 3.4 MB, which is big enough for our purposes; for script generation you'll want more than 1 MB of text, generally.\n",
        "\n",
        "# Submitting This Project\n",
        "When submitting this project, make sure to run all the cells before saving the notebook. Save the notebook file as \"dlnd_tv_script_generation.ipynb\" and save another copy as an HTML file by clicking \"File\" -> \"Download as..\"->\"html\". Include the \"helper.py\" and \"problem_unittests.py\" files in your submission. Once you download these files, compress them into one zip file for submission."
      ]
    },
    {
      "cell_type": "code",
      "execution_count": null,
      "metadata": {
        "id": "ZAPKzBCXnvyO"
      },
      "outputs": [],
      "source": []
    }
  ],
  "metadata": {
    "kernelspec": {
      "display_name": "Python 3",
      "name": "python3"
    },
    "language_info": {
      "codemirror_mode": {
        "name": "ipython",
        "version": 3
      },
      "file_extension": ".py",
      "mimetype": "text/x-python",
      "name": "python",
      "nbconvert_exporter": "python",
      "pygments_lexer": "ipython3",
      "version": "3.6.3"
    },
    "colab": {
      "provenance": [],
      "gpuType": "T4",
      "include_colab_link": true
    },
    "accelerator": "GPU"
  },
  "nbformat": 4,
  "nbformat_minor": 0
}